{
 "cells": [
  {
   "cell_type": "markdown",
   "metadata": {},
   "source": [
    "# Yelp API - Lab\n",
    "\n",
    "\n",
    "\n",
    "## Introduction \n",
    "\n",
    "Now that we've seen how the Yelp API works, it's time to put those API and SQL skills to work in order to do some basic business analysis! Taking things a step further, you'll also independently explore how to perform pagination in order to retrieve a full results set from the Yelp API!\n",
    "\n",
    "## Objectives\n",
    "\n",
    "You will be able to:\n",
    "* Create a DB on AWS to store information from Yelp about businesses\n",
    "* Create HTTP requests to get data from Yelp API\n",
    "* Parse HTTP responses and insert the information into your DB\n",
    "* Perform pagination to retrieve troves of data!\n",
    "* Write SQL queries to answer questions about your data "
   ]
  },
  {
   "cell_type": "markdown",
   "metadata": {},
   "source": [
    "## Problem Introduction\n",
    "\n",
    "For this lab you will analyze the yelp data for a group of businesses to learn more about an industry. You will choose a type of business (Italian Restuarants, Nail Salons, Crossfit gyms) and a location to analyze. Then you will get data from the Yelp API, store that data in a SQL Database on AWS, and write queries to answer questions about the data. \n",
    "\n",
    "\n",
    "### Process:\n",
    "\n",
    "1. Read through the SQL questions and the API documentation to determine which pieces of information you need to pull from the Yelp API.\n",
    "\n",
    "2. Create a DB schema with 2 tables. One for the businesses and one for the reviews.\n",
    "\n",
    "3. Create code to: (put these each into a function)\n",
    "  - Perform a search of businesses using pagination\n",
    "  - Parse the API response for specific data points\n",
    "  - Insert the data into your AWS DB\n",
    "\n",
    "4. Use the functions above in a loop that will paginate over the results to retrieve all of the results. \n",
    "\n",
    "5. Create functions to:\n",
    "  - Retrieve the reviews data of one business\n",
    "  - Parse the reviews response for specific review data\n",
    "  - Insert the review data into the DB\n",
    "\n",
    "6. Using SQL, query all of the business IDs. Using the 3 Python functions you've created, run your business IDs through a loop to get the reviews for each business and insert them into your DB.\n",
    "\n",
    "7. Write SQL queries to answer the following questions about your data.\n",
    "\n",
    "\n",
    "Bonus Steps:  \n",
    "- Place your helper functions in a package so that your final notebook only has the major steps listed.\n",
    "- Rewrite your business search functions to be able take an argument for the type of business you are searching for.\n",
    "- Add another group of businesses to your database.\n"
   ]
  },
  {
   "cell_type": "markdown",
   "metadata": {},
   "source": [
    " \n",
    "## SQL Questions:\n",
    "\n",
    "- Which are the 5 most reviewed businesses?\n",
    "- What is the highest rating recieved in your data set and how many businesses have that rating?\n",
    "- What percentage of businesses have a rating greater than or  4.5?\n",
    "- What percentage of businesses have a rating less than 3?\n",
    "- What is the average rating of restaurants that have a price label of one dollar sign? Two dollar signs? Three dollar signs? \n",
    "- Return the text of the reviews for the most reviewed restaurant. \n",
    "- Find the highest rated business and return text of the most recent review. If multiple business have the same rating, select the restaurant with the most reviews. \n",
    "- Find the lowest rated business and return text of the most recent review.  If multiple business have the same rating, select the restaurant with the least reviews. \n"
   ]
  },
  {
   "cell_type": "markdown",
   "metadata": {},
   "source": [
    "## Part I - Set up the DB\n",
    "\n",
    "Start by reading SQL questions above to get an understanding of the data you will need. Then, read the documentation of Yelp API to understand what data you will receive in the response.  \n",
    "\n",
    "\n",
    "Now that you are familiar with the data, create your SQL queries to create the DB and the appropriate tables. "
   ]
  },
  {
   "cell_type": "code",
   "execution_count": 14,
   "metadata": {},
   "outputs": [],
   "source": [
    "## Connect to DB server on AWS\n",
    "import mysql.connector \n",
    "import config\n",
    "import requests\n",
    "import time  # This is just to be able to make multiple calls to the Yelp API in spaced out time intervals\n",
    "\n",
    "cnx = mysql.connector.connect(\n",
    "    host = config.host,\n",
    "    user = config.user,\n",
    "    passwd = config.password\n",
    ")\n",
    "cursor = cnx.cursor()"
   ]
  },
  {
   "cell_type": "code",
   "execution_count": 11,
   "metadata": {},
   "outputs": [],
   "source": [
    "# cursor.close()\n",
    "# cnx.close()"
   ]
  },
  {
   "cell_type": "code",
   "execution_count": 15,
   "metadata": {},
   "outputs": [],
   "source": [
    "## Create new DB \n",
    "from mysql.connector import errorcode\n",
    "db_name = 'yelp'\n",
    "def create_database(cursor, database):\n",
    "    try:\n",
    "        cursor.execute(\n",
    "            \"CREATE DATABASE {} DEFAULT CHARACTER SET 'utf8'\".format(database))\n",
    "    except mysql.connector.Error as err:\n",
    "        print(\"Failed creating database: {}\".format(err))\n",
    "        exit(1)\n",
    "\n",
    "try:\n",
    "    cursor.execute(\"USE {}\".format(db_name))\n",
    "except mysql.connector.Error as err:\n",
    "    print(\"Database {} does not exists.\".format(db_name))\n",
    "    if err.errno == errorcode.ER_BAD_DB_ERROR:\n",
    "        create_database(cursor, db_name)\n",
    "        print(\"Database {} created successfully.\".format(db_name))\n",
    "        cnx.database = db_name\n",
    "    else:\n",
    "        print(err)\n",
    "        exit(1)"
   ]
  },
  {
   "cell_type": "code",
   "execution_count": null,
   "metadata": {},
   "outputs": [],
   "source": [
    "# Create a table for the Businesses\n",
    "create_query = \"\"\"\n",
    "CREATE TABLE businesses (\n",
    "    business_id varchar(20) NOT NULL UNIQUE,\n",
    "    name varchar(50) NOT NULL,\n",
    "    review_count int(10) NOT NULL,\n",
    "    price varchar(7) NOT NULL,\n",
    "    avg_rating float NOT NULL\n",
    "    );\n",
    "\n",
    "\"\"\"\n",
    "cursor.execute(create_query)\n"
   ]
  },
  {
   "cell_type": "code",
   "execution_count": null,
   "metadata": {},
   "outputs": [],
   "source": [
    "# Did this to modify the business_id column\n",
    "\n",
    "# cursor.execute(\"\"\"\n",
    "#                ALTER TABLE businesses\n",
    "#                MODIFY business_id varchar(50);\n",
    "#                \"\"\")\n",
    "\n",
    "# make business ID the primary key\n",
    "\n",
    "# cursor.execute(\"\"\"\n",
    "#                ALTER TABLE businesses\n",
    "#                ADD CONSTRAINT business_id PRIMARY KEY (business_id);\n",
    "#                \"\"\")"
   ]
  },
  {
   "cell_type": "code",
   "execution_count": null,
   "metadata": {},
   "outputs": [],
   "source": [
    "# Create a table for the reviews\n",
    "create_query = \"\"\"\n",
    "CREATE TABLE reviews (\n",
    "    review_id int(7) NOT NULL UNIQUE AUTO_INCREMENT,\n",
    "    user_name varchar(50) NOT NULL,\n",
    "    review_text varchar(500) NOT NULL,\n",
    "    time_created datetime NOT NULL,\n",
    "    rating float NOT NULL\n",
    "    );\n",
    "\n",
    "\"\"\"\n",
    "cursor.execute(create_query)\n",
    "\n",
    "# ['reviews']['user']['name']\n",
    "# ['reviews']['text']\n",
    "# ['reviews']['time_created']\n",
    "# ['reviews']['rating']"
   ]
  },
  {
   "cell_type": "code",
   "execution_count": null,
   "metadata": {},
   "outputs": [],
   "source": [
    "# cursor.execute(\"\"\"\n",
    "#                ALTER TABLE reviews\n",
    "#                MODIFY review_id varchar(50) NOT NULL UNIQUE;\n",
    "#                \"\"\")\n",
    "# cursor.execute(\"\"\"\n",
    "#                ALTER TABLE reviews\n",
    "#                ADD COLUMN business_id varchar(50) NOT NULL;\n",
    "#                \"\"\")\n",
    "\n",
    "# cursor.execute(\"\"\"\n",
    "#                ALTER TABLE reviews\n",
    "#                ADD CONSTRAINT business_id\n",
    "#                FOREIGN KEY (business_id) REFERENCES yelp.businesses(business_id);\n",
    "#                \"\"\")"
   ]
  },
  {
   "cell_type": "markdown",
   "metadata": {},
   "source": [
    "## Part 2: Create ETL pipeline for the business data from the API"
   ]
  },
  {
   "cell_type": "code",
   "execution_count": 16,
   "metadata": {},
   "outputs": [],
   "source": [
    "# Write a function to make a call to the yelp API\n",
    "\n",
    "def yelp_call(url_params, api_key):\n",
    "    url = 'https://api.yelp.com/v3/businesses/search'\n",
    "    headers = {'Authorization': 'Bearer {}'.format(api_key)}\n",
    "    response = requests.get(url, headers=headers, params=url_params)\n",
    "    data = response.json()['businesses']\n",
    "    return data\n",
    "\n",
    "# yelp_call(url_params, api_key)[1]"
   ]
  },
  {
   "cell_type": "code",
   "execution_count": 17,
   "metadata": {},
   "outputs": [],
   "source": [
    "# write a function to parse the API response \n",
    "# so that you can easily insert the data in to the DB\n",
    "\n",
    "def parse_results(results):\n",
    "    fields = ['id', 'name', 'review_count', 'rating', 'price']\n",
    "    parsed_results = []\n",
    "    for result in results:\n",
    "        parsed_result = {field: (result[field] if field in result.keys() else 'Null') \n",
    "                         for field in fields}\n",
    "        parsed_results.append(parsed_result)\n",
    "    return parsed_results\n",
    "\n",
    "parsed_results = parse_results(yelp_call(url_params, api_key))"
   ]
  },
  {
   "cell_type": "code",
   "execution_count": 18,
   "metadata": {},
   "outputs": [],
   "source": [
    "# Write a function to take your parsed data and insert it into the DB\n",
    "\n",
    "def insert_business(parsed_results):\n",
    "    business_tuples = [(parsed_result['id'],\n",
    "                        parsed_result['name'],\n",
    "                        parsed_result['review_count'],\n",
    "                        parsed_result['rating'],\n",
    "                        parsed_result['price'])\n",
    "                        for parsed_result in parsed_results]\n",
    "    \n",
    "    insert_statement = \"INSERT INTO businesses (business_id, name, review_count, avg_rating, price) VALUES (%s, %s, %s, %s, %s)\"\n",
    "    cursor.executemany(insert_statement,business_tuples)\n",
    "    cnx.commit()\n",
    "\n"
   ]
  },
  {
   "cell_type": "code",
   "execution_count": 25,
   "metadata": {},
   "outputs": [
    {
     "ename": "SyntaxError",
     "evalue": "invalid syntax (<ipython-input-25-17f11754a98e>, line 7)",
     "output_type": "error",
     "traceback": [
      "\u001b[0;36m  File \u001b[0;32m\"<ipython-input-25-17f11754a98e>\"\u001b[0;36m, line \u001b[0;32m7\u001b[0m\n\u001b[0;31m    business_tuples\u001b[0m\n\u001b[0m                  ^\u001b[0m\n\u001b[0;31mSyntaxError\u001b[0m\u001b[0;31m:\u001b[0m invalid syntax\n"
     ]
    }
   ],
   "source": [
    "parsed_result = parse_results(yelp_call(url_params, api_key))[0]\n",
    "business_tuples = [(parsed_result['id'],\n",
    "                        parsed_result['name'],\n",
    "                        parsed_result['review_count'],\n",
    "                        parsed_result['rating'],\n",
    "                        parsed_result['price']\n",
    "print(business_tuples)"
   ]
  },
  {
   "cell_type": "code",
   "execution_count": 19,
   "metadata": {},
   "outputs": [],
   "source": [
    "# Write a script that combines the three functions above into a single process.\n",
    "\n",
    "term = 'cocktails'\n",
    "location = '7th St., NYC'\n",
    "SEARCH_LIMIT = 50\n",
    "api_key = 'gHzgfOrEmRXbfcaOfojNz43Jsdarm-kRyCuA53XRYaZ0WS06fwrokxGky8S2gSNDPieCXsaYwN4w0Oh7g3hvfkkz7-na1l27iiGNEhvaqBmm_u_Lkxcfy1_IO9yxXXYx'\n",
    "url_params = {\n",
    "                'term': term.replace(' ', '+'),\n",
    "                'location': location.replace(' ', '+'),\n",
    "                'limit': SEARCH_LIMIT\n",
    "            }\n",
    "\n",
    "def all_results(url_params, api_key):\n",
    "    url = 'https://api.yelp.com/v3/businesses/search'\n",
    "    headers = {'Authorization': 'Bearer {}'.format(api_key)}\n",
    "    response = requests.get(url, headers=headers, params=url_params)\n",
    "    num = response.json()['total']\n",
    "    print('{} total matches found.'.format(num))\n",
    "    cur = 0\n",
    "    \n",
    "    while cur < num and cur < 1000:\n",
    "        url_params['offset'] = cur\n",
    "        results = yelp_call(url_params, api_key)\n",
    "        parsed_results = parse_results(results)\n",
    "        insert_business(parsed_results)\n",
    "        time.sleep(1) #Wait a second\n",
    "        cur += 50\n"
   ]
  },
  {
   "cell_type": "code",
   "execution_count": 20,
   "metadata": {},
   "outputs": [
    {
     "name": "stdout",
     "output_type": "stream",
     "text": [
      "1300 total matches found.\n"
     ]
    }
   ],
   "source": [
    "all_results(url_params, api_key)"
   ]
  },
  {
   "cell_type": "markdown",
   "metadata": {},
   "source": [
    "## Part 3: Create ETL pipeline for the restaurant review data from the API"
   ]
  },
  {
   "cell_type": "code",
   "execution_count": 21,
   "metadata": {},
   "outputs": [],
   "source": [
    "# write a function that takes a business id \n",
    "# and makes a call to the API for reivews\n",
    "\n",
    "def review_call(api_key, business_id):\n",
    "    url = 'https://api.yelp.com/v3/businesses/{}/reviews'.format(business_id)\n",
    "    headers = {'Authorization': 'Bearer {}'.format(api_key)}\n",
    "    response = requests.get(url, headers=headers)\n",
    "    return response.json()['reviews']"
   ]
  },
  {
   "cell_type": "code",
   "execution_count": 27,
   "metadata": {},
   "outputs": [],
   "source": [
    "# review_call(api_key,business_ids[0][0])\n",
    "# print(business_ids[0][0])"
   ]
  },
  {
   "cell_type": "code",
   "execution_count": 22,
   "metadata": {},
   "outputs": [],
   "source": [
    "# Write a function to parse out the relevant information from the reviews\n",
    "\n",
    "def parse_reviews(reviews, business_id):\n",
    "    fields = ['id', 'user', 'time_created', 'rating', 'text']\n",
    "    parsed_reviews = []\n",
    "    for review in reviews:\n",
    "        parsed_review = {}\n",
    "        for field in fields:\n",
    "            parsed_review['business_id'] = business_id\n",
    "            if field in review.keys() and field != 'user':\n",
    "                parsed_review[field] = review[field]\n",
    "            elif field == 'user':\n",
    "                parsed_review['user_name'] = review['user']['name']\n",
    "            else:\n",
    "                parsed_review[field] = 'Null'\n",
    "        parsed_reviews.append(parsed_review)\n",
    "    return parsed_reviews\n",
    "\n"
   ]
  },
  {
   "cell_type": "code",
   "execution_count": 23,
   "metadata": {},
   "outputs": [],
   "source": [
    "# write a function to insert the parsed data into the reviews table\n",
    "def insert_reviews(parsed_reviews):\n",
    "    reviews_tuples = [(parsed_review['id'],\n",
    "                        parsed_review['user_name'],\n",
    "                        parsed_review['text'],\n",
    "                        parsed_review['time_created'],\n",
    "                        parsed_review['rating'],\n",
    "                        parsed_review['business_id'])\n",
    "                        for parsed_review in parsed_reviews]\n",
    "    insert_statement = \"\"\"\n",
    "                       INSERT INTO reviews (review_id, user_name, review_text, \n",
    "                                               time_created, rating, business_id) \n",
    "                       VALUES (%s, %s, %s, %s, %s, %s)\n",
    "                       ;\"\"\"\n",
    "    cursor.executemany(insert_statement,reviews_tuples)\n",
    "    cnx.commit()"
   ]
  },
  {
   "cell_type": "code",
   "execution_count": 24,
   "metadata": {},
   "outputs": [],
   "source": [
    "# combine the functions above into a single script  \n",
    "\n",
    "api_key = 'gHzgfOrEmRXbfcaOfojNz43Jsdarm-kRyCuA53XRYaZ0WS06fwrokxGky8S2gSNDPieCXsaYwN4w0Oh7g3hvfkkz7-na1l27iiGNEhvaqBmm_u_Lkxcfy1_IO9yxXXYx'\n",
    "\n",
    "cursor.execute(\"\"\"\n",
    "            SELECT\n",
    "            business_id\n",
    "            FROM\n",
    "            businesses\n",
    "            ;\"\"\")\n",
    "business_ids = [element[0] for element in cursor.fetchall()]\n",
    "\n",
    "for business_id in business_ids:\n",
    "    reviews = review_call(api_key,business_id)\n",
    "    parsed_reviews = parse_reviews(reviews, business_id)\n",
    "    insert_reviews(parsed_reviews)"
   ]
  },
  {
   "cell_type": "markdown",
   "metadata": {},
   "source": [
    "## Part 4: Write SQL queries that will answer the questions posed. "
   ]
  },
  {
   "cell_type": "code",
   "execution_count": null,
   "metadata": {},
   "outputs": [],
   "source": [
    "# create connection"
   ]
  },
  {
   "cell_type": "code",
   "execution_count": null,
   "metadata": {},
   "outputs": [],
   "source": [
    "# execute SQL queries"
   ]
  },
  {
   "cell_type": "code",
   "execution_count": null,
   "metadata": {},
   "outputs": [],
   "source": []
  },
  {
   "cell_type": "markdown",
   "metadata": {},
   "source": [
    "# Extra Reference help"
   ]
  },
  {
   "cell_type": "markdown",
   "metadata": {},
   "source": [
    "###  Pagination\n",
    "\n",
    "Returning to the Yelp API, the [documentation](https://www.yelp.com/developers/documentation/v3/business_search) also provides us details regarding the API limits. These often include details about the number of requests a user is allowed to make within a specified time limit and the maximum number of results to be returned. In this case, we are told that any request has a maximum of 50 results per request and defaults to 20. Furthermore, any search will be limited to a total of 1000 results. To retrieve all 1000 of these results, we would have to page through the results piece by piece, retriving 50 at a time. Processes such as these are often refered to as pagination.\n",
    "\n",
    "Now that you have an initial response, you can examine the contents of the json container. For example, you might start with ```response.json().keys()```. Here, you'll see a key for `'total'`, which tells you the full number of matching results given your query parameters. Write a loop (or ideally a function) which then makes successive API calls using the offset parameter to retrieve all of the results (or 5000 for a particularly large result set) for the original query. As you do this, be mindful of how you store the data. \n",
    "\n",
    "**Note: be mindful of the API rate limits. You can only make 5000 requests per day, and APIs can make requests too fast. Start prototyping small before running a loop that could be faulty. You can also use time.sleep(n) to add delays. For more details see https://www.yelp.com/developers/documentation/v3/rate_limiting.**"
   ]
  },
  {
   "cell_type": "markdown",
   "metadata": {},
   "source": [
    "***Below is sample code that you can use to help you deal with the pagination parameter and bring all of the functions together.***\n",
    "\n",
    "\n",
    "***Also, something might cause your code to break while it is running. You don't want to constantly repull the same data when this happens, so you should insert the data into the database as you call and parse it, not after you have all of the data***\n"
   ]
  },
  {
   "cell_type": "code",
   "execution_count": null,
   "metadata": {},
   "outputs": [],
   "source": [
    "def yelp_call(url_params, api_key):\n",
    "    url = 'https://api.yelp.com/v3/businesses/search'\n",
    "    headers = {'Authorization': 'Bearer {}'.format(api_key)}\n",
    "    response = requests.get(url, headers=headers, params=url_params)\n",
    "    \n",
    "    data = response.json()['businesses']\n",
    "    return data"
   ]
  },
  {
   "cell_type": "code",
   "execution_count": null,
   "metadata": {},
   "outputs": [],
   "source": [
    "def parse_results(results):\n",
    "    \n",
    "    return parsed_results"
   ]
  },
  {
   "cell_type": "code",
   "execution_count": null,
   "metadata": {},
   "outputs": [],
   "source": [
    "# Your code here; use a function or loop to retrieve all the results from your original request\n",
    "import time\n",
    "\n",
    "\n",
    "\n",
    "def all_results(url_params, api_key):\n",
    "    num = response.json()['total']\n",
    "    print('{} total matches found.'.format(num))\n",
    "    cur = 0\n",
    "    \n",
    "    while cur < num and cur < 1000:\n",
    "        url_params['offset'] = cur\n",
    "        results = yelp_call(url_params, api_key)\n",
    "        parsed_results = parse_results(results)\n",
    "        db_insert(parsed)\n",
    "        time.sleep(1) #Wait a second\n",
    "        cur += 50\n",
    "\n",
    "term = 'pizza'\n",
    "location = 'Astoria NY'\n",
    "url_params = {  'term': term.replace(' ', '+'),\n",
    "                'location': location.replace(' ', '+'),\n",
    "                'limit' : 50\n",
    "             }\n",
    "df = all_results(url_params, api_key)\n",
    "print(len(df))\n",
    "df.head()"
   ]
  },
  {
   "cell_type": "markdown",
   "metadata": {},
   "source": [
    "### Sample SQL Query \n",
    "\n",
    "Below is a SQL query to create a table.  Additionally here is a link to create a table with a foreign key.\n",
    "\n",
    "http://www.mysqltutorial.org/mysql-foreign-key/\n",
    "\n",
    "```CREATE TABLE IF NOT EXISTS tasks (\n",
    "    task_id INT AUTO_INCREMENT,\n",
    "    title VARCHAR(255) NOT NULL,\n",
    "    start_date DATE,\n",
    "    due_date DATE,\n",
    "    status TINYINT NOT NULL,\n",
    "    priority TINYINT NOT NULL,\n",
    "    description TEXT,\n",
    "    PRIMARY KEY (task_id)\n",
    ")  ENGINE=INNODB;```"
   ]
  },
  {
   "cell_type": "markdown",
   "metadata": {},
   "source": [
    "### Using DB:\n",
    "    \n",
    "For this lab, you can either store the data on one DB or put in on both of the partners DBs. If you decide to put it on one DB, you want to make sure both partners have access to it.  To do this you want to add a user to your DB.  \n",
    "\n",
    "[how to add a new user](https://howchoo.com/g/mtm3zdq2nzv/how-to-add-a-mysql-user-and-grant-privileges)"
   ]
  },
  {
   "cell_type": "code",
   "execution_count": null,
   "metadata": {},
   "outputs": [],
   "source": []
  }
 ],
 "metadata": {
  "kernelspec": {
   "display_name": "Python 3",
   "language": "python",
   "name": "python3"
  },
  "language_info": {
   "codemirror_mode": {
    "name": "ipython",
    "version": 3
   },
   "file_extension": ".py",
   "mimetype": "text/x-python",
   "name": "python",
   "nbconvert_exporter": "python",
   "pygments_lexer": "ipython3",
   "version": "3.7.4"
  },
  "toc": {
   "base_numbering": 1,
   "nav_menu": {},
   "number_sections": false,
   "sideBar": true,
   "skip_h1_title": false,
   "title_cell": "Table of Contents",
   "title_sidebar": "Contents",
   "toc_cell": false,
   "toc_position": {},
   "toc_section_display": true,
   "toc_window_display": false
  }
 },
 "nbformat": 4,
 "nbformat_minor": 2
}
